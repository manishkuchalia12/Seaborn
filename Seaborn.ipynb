{
 "cells": [
  {
   "cell_type": "markdown",
   "id": "d7b28fec-bce8-41c8-9574-89a3333eb801",
   "metadata": {},
   "source": [
    "Que 1: Name any five plots that we can plot using the Seaborn library. Also, state the uses of each plot.\n",
    "Ans:-Seaborn is a data visualization library based on Matplotlib that provides a high-level interface for drawing attractive and informative statistical graphics. Here are five common plots that can be created using Seaborn, along with their typical use cases:\r\n",
    "\r\n",
    "Scatter Plo:\r\n",
    "\r\n",
    "Use: Visualize the relationship between two numerical variables.\r\n",
    "Function: seaborn.scatterplot()\r\n",
    "Example: Display the correlation between the height and weight of individuals.\r\n",
    "Lin Plot:\r\n",
    "\r\n",
    "Use: Show the trend or relationship between two numerical variables over a continuous interval.\r\n",
    "Function: seaborn.lineplot()\r\n",
    "Example: Illustrate the change in temperature over time.\n",
    "Histogram:\r\n",
    "\r\n",
    "Use: Display the distribution of a single numerical variable.\r\n",
    "Function: seaborn.histplot()\r\n",
    "Example: Show the frequency distribution of exam scores in a lass.\r\n",
    "Bar Plot:\r\n",
    "\r\n",
    "Use: Compare the values of different categories.\r\n",
    "Function: seaborn.barplot()\r\n",
    "Example: Compare the average sales of different products in a store.\r\n",
    "Box Plot (ox-and-Whisker Plot):\r\n",
    "\r\n",
    "Use: Visualize the distribution and spread of a numerical variable, including outliers.\r\n",
    "Function: seaborn.boxplot()\r\n",
    "Example: Show the distribution of income across different job roles."
   ]
  },
  {
   "cell_type": "markdown",
   "id": "548cad76-b034-47b3-89ff-d68a7cd9f600",
   "metadata": {},
   "source": [
    "Que 2: Load the \"fmri\" dataset using the load_dataset function of seaborn. Plot a line plot using x =\n",
    "\"timepoint\" and y = \"signal\" for different events and regions."
   ]
  },
  {
   "cell_type": "code",
   "execution_count": null,
   "id": "92717d0c-016d-4b5b-aeb7-5b870e6b0980",
   "metadata": {},
   "outputs": [],
   "source": [
    "import seaborn as sns\n",
    "import matplotlib.pyplot as plt\n",
    "\n",
    "# Load the \"fmri\" dataset\n",
    "fmri_data = sns.load_dataset(\"fmri\")\n",
    "\n",
    "# Plot a line plot using Seaborn\n",
    "sns.set(style=\"darkgrid\")  # Set the style of the plot (optional)\n",
    "\n",
    "# Create a line plot with \"timepoint\" on the x-axis, \"signal\" on the y-axis, and hue for different events\n",
    "sns.lineplot(x=\"timepoint\", y=\"signal\", hue=\"event\", data=fmri_data, style=\"region\")\n",
    "\n",
    "# Set plot title and labels\n",
    "plt.title('FMRI Signal Over Time for Different Events and Regions')\n",
    "plt.xlabel('Timepoint')\n",
    "plt.ylabel('Signal')\n",
    "\n",
    "# Display the plot\n",
    "plt.show()\n"
   ]
  },
  {
   "cell_type": "markdown",
   "id": "add80060-6011-46ae-ab76-19ae76385307",
   "metadata": {},
   "source": [
    "Que 3: Load the \"titanic\" dataset using the load_dataset function of seaborn. Plot two box plots using x =\n",
    "'pclass', y = 'age' and y = 'fare'."
   ]
  },
  {
   "cell_type": "code",
   "execution_count": null,
   "id": "a4fb147a-3cd3-467e-8f27-8e8deb6c2aaa",
   "metadata": {},
   "outputs": [],
   "source": [
    "import seaborn as sns\n",
    "import matplotlib.pyplot as plt\n",
    "\n",
    "# Load the \"titanic\" dataset\n",
    "titanic_data = sns.load_dataset(\"titanic\")\n",
    "\n",
    "# Set up a 1x2 grid for the box plots\n",
    "plt.figure(figsize=(12, 5))\n",
    "\n",
    "# Box plot for 'age' by 'pclass'\n",
    "plt.subplot(1, 2, 1)\n",
    "sns.boxplot(x='pclass', y='age', data=titanic_data)\n",
    "plt.title('Box Plot of Age by Pclass')\n",
    "\n",
    "# Box plot for 'fare' by 'pclass'\n",
    "plt.subplot(1, 2, 2)\n",
    "sns.boxplot(x='pclass', y='fare', data=titanic_data)\n",
    "plt.title('Box Plot of Fare by Pclass')\n",
    "\n",
    "# Adjust layout for better appearance\n",
    "plt.tight_layout()\n",
    "\n",
    "# Display the plots\n",
    "plt.show()\n"
   ]
  },
  {
   "cell_type": "markdown",
   "id": "5edbec2a-1a58-4b92-b563-fad5e8aaa79e",
   "metadata": {},
   "source": [
    "Que 4: Use the \"diamonds\" dataset from seaborn to plot a histogram for the 'price' column. Use the hue\n",
    "parameter for the 'cut' column of the diamonds dataset."
   ]
  },
  {
   "cell_type": "code",
   "execution_count": null,
   "id": "9e423931-7913-4708-9629-f7fe965bdc04",
   "metadata": {},
   "outputs": [],
   "source": [
    "import seaborn as sns\n",
    "import matplotlib.pyplot as plt\n",
    "\n",
    "# Load the \"diamonds\" dataset\n",
    "diamonds_data = sns.load_dataset(\"diamonds\")\n",
    "\n",
    "# Set the style of the plot (optional)\n",
    "sns.set(style=\"whitegrid\")\n",
    "\n",
    "# Plot a histogram for the 'price' column with 'cut' as the hue\n",
    "sns.histplot(data=diamonds_data, x='price', hue='cut', multiple=\"stack\", bins=30, edgecolor='black')\n",
    "\n",
    "# Set plot title and labels\n",
    "plt.title('Histogram of Diamond Prices by Cut')\n",
    "plt.xlabel('Price')\n",
    "plt.ylabel('Frequency')\n",
    "\n",
    "# Display the plot\n",
    "plt.show()\n"
   ]
  },
  {
   "cell_type": "markdown",
   "id": "602a18e1-a1d8-43c1-a6f3-200bec9a8c22",
   "metadata": {},
   "source": [
    "Que 5: Use the \"iris\" dataset from seaborn to plot a pair plot. Use the hue parameter for the \"species\" column\n",
    "of the iris dataset."
   ]
  }
 ],
 "metadata": {
  "kernelspec": {
   "display_name": "Python 3 (ipykernel)",
   "language": "python",
   "name": "python3"
  },
  "language_info": {
   "codemirror_mode": {
    "name": "ipython",
    "version": 3
   },
   "file_extension": ".py",
   "mimetype": "text/x-python",
   "name": "python",
   "nbconvert_exporter": "python",
   "pygments_lexer": "ipython3",
   "version": "3.12.0"
  }
 },
 "nbformat": 4,
 "nbformat_minor": 5
}
